{
  "nbformat": 4,
  "nbformat_minor": 0,
  "metadata": {
    "colab": {
      "provenance": [],
      "authorship_tag": "ABX9TyPX+7/kNIrgM7qZsEbdSeG3",
      "include_colab_link": true
    },
    "kernelspec": {
      "name": "python3",
      "display_name": "Python 3"
    },
    "language_info": {
      "name": "python"
    }
  },
  "cells": [
    {
      "cell_type": "markdown",
      "metadata": {
        "id": "view-in-github",
        "colab_type": "text"
      },
      "source": [
        "<a href=\"https://colab.research.google.com/github/BETTYBETS/Day-2-WTM-GDG-Bambili-30-Days-of-Code-Datascience/blob/main/Day_2_Introduction.ipynb\" target=\"_parent\"><img src=\"https://colab.research.google.com/assets/colab-badge.svg\" alt=\"Open In Colab\"/></a>"
      ]
    },
    {
      "cell_type": "code",
      "execution_count": null,
      "metadata": {
        "id": "v9THrO6eG6ce"
      },
      "outputs": [],
      "source": [
        "sample_variable=None"
      ]
    },
    {
      "cell_type": "code",
      "source": [
        "# this is a sample\n",
        "# 23Job_variable=None\n",
        "# +Clients_variable=None\n",
        "# This code will not be executed even if you press play"
      ],
      "metadata": {
        "id": "oLaSvy5ZJCWg"
      },
      "execution_count": null,
      "outputs": []
    },
    {
      "cell_type": "code",
      "source": [
        "sample_variable=\"Hello world\""
      ],
      "metadata": {
        "id": "E1Z2kY7sJmLy"
      },
      "execution_count": null,
      "outputs": []
    },
    {
      "cell_type": "code",
      "source": [
        "print(sample_variable)"
      ],
      "metadata": {
        "colab": {
          "base_uri": "https://localhost:8080/"
        },
        "id": "79mJvmRzKjU0",
        "outputId": "29a89d73-5fc9-4506-ac77-eaa278fdf83e"
      },
      "execution_count": null,
      "outputs": [
        {
          "output_type": "stream",
          "name": "stdout",
          "text": [
            "Hello world\n"
          ]
        }
      ]
    }
  ]
}